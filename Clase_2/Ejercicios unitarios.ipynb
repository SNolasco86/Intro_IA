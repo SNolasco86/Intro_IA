{
 "cells": [
  {
   "cell_type": "markdown",
   "id": "683c97ba",
   "metadata": {
    "pycharm": {
     "name": "#%% md\n"
    }
   },
   "source": [
    "Sea la matriz:\n",
    "\n",
    "$$\n",
    "  A =\n",
    "  \\left[ {\\begin{array}{ccc}\n",
    "    -2 & -4 & 2 \\\\\n",
    "    -2 & 1 & 2 \\\\\n",
    "    4 & 2 & 5 \\\\\n",
    "  \\end{array} } \\right]\n",
    "$$\n",
    "\n",
    "cuyos autovalores son: 3, -5 y 6.\n",
    "\n",
    "\n",
    "y los vectores \n",
    "\n",
    "$$\n",
    "V_1 = \n",
    "\\left[ {\\begin{array}{c}\n",
    "    1 \\\\\n",
    "    1 \\\\\n",
    "    1 \\\\\n",
    "  \\end{array} } \\right]\n",
    "$$\n",
    "\n",
    "y \n",
    "\n",
    "$$\n",
    "V_2 = \n",
    "\\left[ {\\begin{array}{c}\n",
    "    1 \\\\\n",
    "    2 \\\\\n",
    "    3 \\\\\n",
    "  \\end{array} } \\right] \n",
    "$$"
   ]
  },
  {
   "cell_type": "markdown",
   "id": "0a1ba10e",
   "metadata": {
    "pycharm": {
     "name": "#%% md\n"
    }
   },
   "source": [
    "# Ejercicio 0\n",
    "\n",
    "Crear la matriz y los vectores anteriores en numpy."
   ]
  },
  {
   "cell_type": "code",
   "execution_count": 1,
   "outputs": [
    {
     "name": "stdout",
     "output_type": "stream",
     "text": [
      "(3, 3)\n",
      "(3, 1)\n"
     ]
    }
   ],
   "source": [
    "import numpy as np\n",
    "\n",
    "A = np.array([[-2, -4, 2],[-2, 1, 2],[4, 2, 5]])\n",
    "print(A.shape)\n",
    "V1 = np.array([[1],[1],[1]])\n",
    "V2 = np.array([[1],[2],[3]])\n",
    "print(V1.shape)"
   ],
   "metadata": {
    "collapsed": false,
    "pycharm": {
     "name": "#%%\n"
    }
   }
  },
  {
   "cell_type": "markdown",
   "source": [
    "# Ejercicio 1\n",
    "Dada una matriz en formato numpy array, donde cada fila de la matriz representa un vector matemático, se\n",
    "requiere computar las normas l0, l1, l2, l-infinity, según la siguientes definiciones:\n",
    "\n",
    "$||x||_0 =$ cantidad de elementos diferentes a cero en el vector. \n",
    "\n",
    "$||x||_p := \\big( \\sum_{i=1}^{n} |x_i|^p \\big)^\\frac{1}{p}$ .\n",
    "\n",
    "$||x||_{\\infty} := max_{i} |x_i|$\n"
   ],
   "metadata": {
    "collapsed": false,
    "pycharm": {
     "name": "#%% md\n"
    }
   }
  },
  {
   "cell_type": "code",
   "execution_count": 33,
   "outputs": [],
   "source": [
    "def vector_norm_l0(matriz):\n",
    "    Dist_zero = np.abs(matriz) > 0\n",
    "    return np.sum(Dist_zero, axis=1)\n",
    "\n",
    "\n",
    "def vector_norm_l1(matriz):\n",
    "    abs_m = np.abs(matriz)\n",
    "    return np.sum(abs_m, axis=1)\n",
    "\n",
    "\n",
    "def vector_norm_l2(matriz):\n",
    "    return np.sqrt(np.sum(pow(matriz, 2), axis=1))\n",
    "\n",
    "\n",
    "def vector_norm_inf(matriz):\n",
    "    return np.max(np.abs(matriz), axis=1)"
   ],
   "metadata": {
    "collapsed": false,
    "pycharm": {
     "name": "#%%\n"
    }
   }
  },
  {
   "cell_type": "code",
   "execution_count": 31,
   "outputs": [
    {
     "name": "stdout",
     "output_type": "stream",
     "text": [
      "vector_norm_l0(A) \n",
      " [3 3 3]\n",
      "vector_norm_l1(A) \n",
      " [ 8  5 11]\n",
      "vector_norm_l2(A) \n",
      " [4.89897949 3.         6.70820393]\n",
      "vector_norm_inf(A) \n",
      " [4 2 5]\n"
     ]
    }
   ],
   "source": [
    "print(\"vector_norm_l0(A) \\n\",vector_norm_l0(A))\n",
    "print(\"vector_norm_l1(A) \\n\",vector_norm_l1(A))\n",
    "print(\"vector_norm_l2(A) \\n\",vector_norm_l2(A))\n",
    "print(\"vector_norm_inf(A) \\n\",vector_norm_inf(A))"
   ],
   "metadata": {
    "collapsed": false,
    "pycharm": {
     "name": "#%%\n"
    }
   }
  },
  {
   "cell_type": "markdown",
   "id": "17e45a08",
   "metadata": {
    "pycharm": {
     "name": "#%% md\n"
    }
   },
   "source": [
    "# Ejercicio 2\n",
    "Dada una matriz en formato numpy array, donde cada fila de la matriz representa un vector matemático, se\n",
    "requiere computar la norma l2 de cada vector.\n",
    "Una vez obtenida la norma l2 de cada vector, se debe ordenar las normas de mayor a menor.\n",
    "Finalmente, obtener la matriz original ordenada por fila según la norma l2.\n",
    "Todas las operaciones debe ser vectorizadas.\n",
    "\n",
    "**Utilizar el resultado del ejercicio anterior.**"
   ]
  },
  {
   "cell_type": "code",
   "execution_count": 64,
   "outputs": [
    {
     "name": "stdout",
     "output_type": "stream",
     "text": [
      "Matriz_norm_l2 \n",
      " [[ 4  2  5]\n",
      " [-2 -4  2]\n",
      " [-2  1  2]]\n"
     ]
    }
   ],
   "source": [
    "#Matriz_norm_l2=A[np.argsort(vector_norm_l2(A)*-1),:]\n",
    "Matriz_norm_l2=A[vector_norm_l2(A).argsort()[::-1],:]\n",
    "print(\"Matriz_norm_l2 \\n\",Matriz_norm_l2)"
   ],
   "metadata": {
    "collapsed": false,
    "pycharm": {
     "name": "#%%\n"
    }
   }
  },
  {
   "cell_type": "markdown",
   "id": "3bd8743a",
   "metadata": {
    "pycharm": {
     "name": "#%% md\n"
    }
   },
   "source": [
    "# Ejercicio 3\n",
    "\n",
    "Implementar una función que reste la media y divida por el desvío estándar de la matriz A, por columna."
   ]
  },
  {
   "cell_type": "code",
   "execution_count": 79,
   "outputs": [],
   "source": [
    "def ResU_DivS(matriz):\n",
    "    M_matriz = np.mean(A,axis=0)\n",
    "    D_matriz = np.std(A,axis=0)\n",
    "    print(\"media\\n\",M_matriz)\n",
    "    print(\"desviacion\\n\",D_matriz)\n",
    "    return (matriz-M_matriz)/D_matriz\n"
   ],
   "metadata": {
    "collapsed": false,
    "pycharm": {
     "name": "#%%\n"
    }
   }
  },
  {
   "cell_type": "code",
   "execution_count": 80,
   "outputs": [
    {
     "name": "stdout",
     "output_type": "stream",
     "text": [
      "media\n",
      " [ 0.         -0.33333333  3.        ]\n",
      "desviacion\n",
      " [2.82842712 2.62466929 1.41421356]\n",
      "Funcion del ej3 \n",
      " [[-0.70710678 -1.3970014  -0.70710678]\n",
      " [-0.70710678  0.50800051 -0.70710678]\n",
      " [ 1.41421356  0.88900089  1.41421356]]\n"
     ]
    }
   ],
   "source": [
    "print(\"Funcion del ej3 \\n\",ResU_DivS(A))"
   ],
   "metadata": {
    "collapsed": false,
    "pycharm": {
     "name": "#%%\n"
    }
   }
  },
  {
   "cell_type": "markdown",
   "id": "0bf5739e",
   "metadata": {
    "pycharm": {
     "name": "#%% md\n"
    }
   },
   "source": [
    "# Ejercicio 4\n",
    "\n",
    "Utilizando numpy.linalg, calcular la inversa, el determinante y la traza. Determinar autovalores y autovectores."
   ]
  },
  {
   "cell_type": "code",
   "execution_count": 89,
   "outputs": [],
   "source": [
    "def Inversa_matriz(matriz):\n",
    "    inversa = np.linalg.inv(matriz)\n",
    "    return inversa\n",
    "\n",
    "def Determinate_matriz(matriz):\n",
    "    deter = np.linalg.det(matriz)\n",
    "    return deter\n",
    "\n",
    "def Traza_matriz(matriz):\n",
    "    traza = np.trace(matriz)\n",
    "    return traza\n",
    "\n",
    "\n"
   ],
   "metadata": {
    "collapsed": false,
    "pycharm": {
     "name": "#%%\n"
    }
   }
  },
  {
   "cell_type": "code",
   "execution_count": 91,
   "outputs": [
    {
     "name": "stdout",
     "output_type": "stream",
     "text": [
      "[[-2 -4  2]\n",
      " [-2  1  2]\n",
      " [ 4  2  5]]\n",
      "Inversa_matriz multiplicada con su original \n",
      " [[ 1.00000000e+00  5.55111512e-17  0.00000000e+00]\n",
      " [-5.55111512e-17  1.00000000e+00  0.00000000e+00]\n",
      " [-2.77555756e-17 -8.32667268e-17  1.00000000e+00]]\n",
      "Determinate_matriz \n",
      " -90.0\n",
      "Traza \n",
      " 4\n"
     ]
    }
   ],
   "source": [
    "print(A)\n",
    "print(\"Inversa_matriz multiplicada con su original \\n\",np.dot(A,Inversa_matriz(A)))\n",
    "print(\"Determinate_matriz \\n\",Determinate_matriz(A))\n",
    "print(\"Traza \\n\",Traza_matriz(A))"
   ],
   "metadata": {
    "collapsed": false,
    "pycharm": {
     "name": "#%%\n"
    }
   }
  },
  {
   "cell_type": "markdown",
   "id": "67b0383b",
   "metadata": {
    "pycharm": {
     "name": "#%% md\n"
    }
   },
   "source": [
    "# Ejercicio 5\n",
    "\n",
    "Dada una nube de puntos X y centroides C, obtener la distancia entre cada vector X y los centroides\n",
    "utilizando operaciones vectorizadas y broadcasting en NumPy. Utilizar como referencia los siguientes\n",
    "valores.\n",
    "\n",
    "● X = [[1, 2, 3], [4, 5, 6], [7, 8, 9]]\n",
    "\n",
    "● C = [[1, 0, 0], [0, 1, 1]]"
   ]
  },
  {
   "cell_type": "code",
   "execution_count": 126,
   "outputs": [],
   "source": [
    "def dist_vect(V1,V2):\n",
    "        #dist = np.linalg.norm(V2-V1)\n",
    "        diff = V2 - V1\n",
    "        dist = np.sqrt(np.dot(diff.T, diff))\n",
    "        return dist\n"
   ],
   "metadata": {
    "collapsed": false,
    "pycharm": {
     "name": "#%%\n"
    }
   }
  },
  {
   "cell_type": "code",
   "execution_count": 128,
   "outputs": [
    {
     "name": "stdout",
     "output_type": "stream",
     "text": [
      "[[1 2 3]\n",
      " [4 5 6]\n",
      " [7 8 9]]\n",
      "[[1 0 0]\n",
      " [0 1 1]]\n",
      "[[ 6.70820393  7.93725393  8.48528137]\n",
      " [ 7.93725393  9.64365076 10.39230485]\n",
      " [ 8.48528137 10.39230485 11.22497216]]\n"
     ]
    }
   ],
   "source": [
    " X = np.array([[1, 2, 3], [4, 5, 6], [7, 8, 9]])\n",
    " C = np.array([[1, 0, 0], [0, 1, 1]])\n",
    " print(X)\n",
    " print(C)\n",
    " print(dist_vect(X,C[0,:]))\n"
   ],
   "metadata": {
    "collapsed": false,
    "pycharm": {
     "name": "#%%\n"
    }
   }
  },
  {
   "cell_type": "markdown",
   "source": [
    "\n",
    "# Ejercicio 6\n",
    "\n",
    "Obtener para cada fila en X, el índice de la fila en C con distancia euclídea más pequeña.\n",
    "Es decir, decir para cada fila en X a qué cluster pertenece en C.\n",
    "Por ejemplo, si el resultado anterior fue:\n",
    "\n",
    "\n",
    "[[ 3.60555128 8.36660027 13.45362405]\n",
    "\n",
    "[ 2.44948974 7.54983444 12.72792206]]\n",
    "\n",
    "\n",
    "El programa debería devolver [1, 1, 1]\n",
    "\n",
    "\n",
    "Hint: utilizar np.argmin"
   ],
   "metadata": {
    "collapsed": false,
    "pycharm": {
     "name": "#%% md\n"
    }
   }
  },
  {
   "cell_type": "code",
   "execution_count": 139,
   "outputs": [
    {
     "name": "stdout",
     "output_type": "stream",
     "text": [
      "[0 0 0]\n"
     ]
    }
   ],
   "source": [
    "Menor_dist_filas = np.argmin(dist_vect(X,C[0,:]), axis=1)\n",
    "#ind = np.unravel_index(np.argmin(dist_vect(X,C[0,:]), axis=None), dist_vect(X,C[0,:]).shape)\n",
    "print(Menor_dist_filas)\n",
    "#print(ind)"
   ],
   "metadata": {
    "collapsed": false,
    "pycharm": {
     "name": "#%%\n"
    }
   }
  },
  {
   "cell_type": "code",
   "execution_count": null,
   "outputs": [],
   "source": [],
   "metadata": {
    "collapsed": false,
    "pycharm": {
     "name": "#%%\n"
    }
   }
  }
 ],
 "metadata": {
  "kernelspec": {
   "display_name": "Python 3 (ipykernel)",
   "language": "python",
   "name": "python3"
  },
  "language_info": {
   "codemirror_mode": {
    "name": "ipython",
    "version": 3
   },
   "file_extension": ".py",
   "mimetype": "text/x-python",
   "name": "python",
   "nbconvert_exporter": "python",
   "pygments_lexer": "ipython3",
   "version": "3.8.10"
  }
 },
 "nbformat": 4,
 "nbformat_minor": 5
}